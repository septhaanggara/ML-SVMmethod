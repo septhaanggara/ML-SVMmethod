{
 "cells": [
  {
   "cell_type": "code",
   "execution_count": 1,
   "metadata": {},
   "outputs": [],
   "source": [
    "import pandas as pd\n",
    "from sklearn import metrics\n",
    "from sklearn import svm\n",
    "from sklearn import linear_model\n",
    "import matplotlib.pyplot as plt\n",
    "import numpy as np\n",
    "from sklearn.model_selection import train_test_split\n",
    "datalatih=pd.read_csv('datatraining.csv')\n",
    "datauji=pd.read_csv('datatesting.csv')"
   ]
  },
  {
   "cell_type": "code",
   "execution_count": 2,
   "metadata": {},
   "outputs": [
    {
     "data": {
      "text/plain": [
       "<function matplotlib.pyplot.show(*args, **kw)>"
      ]
     },
     "execution_count": 2,
     "metadata": {},
     "output_type": "execute_result"
    },
    {
     "data": {
      "image/png": "[encoded data removed]",
      "text/plain": [
       "<Figure size 432x288 with 1 Axes>"
      ]
     },
     "metadata": {
      "needs_background": "light"
     },
     "output_type": "display_data"
    }
   ],
   "source": [
    "setosa = datalatih[datalatih['data5']=='Iris-setosa']\n",
    "versicolor=datalatih[datalatih['data5']=='Iris-versicolor']\n",
    "virginica=datalatih[datalatih['data5']=='Iris-virginica']\n",
    "a=setosa.drop('data5',axis=1).values\n",
    "b=virginica.drop('data5',axis=1).values\n",
    "c=versicolor.drop('data5',axis=1).values\n",
    "i=0\n",
    "kordinatXsetosa=[]\n",
    "kordinatYsetosa=[]\n",
    "i=0\n",
    "for i in range(len(a)-1):\n",
    "    i=i+1\n",
    "    t=a[i][0] and a[i][1]\n",
    "    u=a[i][2] and a[i][3]\n",
    "    kordinatXsetosa.append(t)\n",
    "    kordinatYsetosa.append(u)\n",
    "kordinatXvirginica=[]\n",
    "kordinatYvirginica=[]\n",
    "for i in range(len(b)-1):\n",
    "    i=i+1\n",
    "    t=b[i][0] and b[i][1]\n",
    "    u=b[i][2] and b[i][3]\n",
    "    kordinatXvirginica.append(t)\n",
    "    kordinatYvirginica.append(u)\n",
    "kordinatXversicolor=[]\n",
    "kordinatYversicolor=[]\n",
    "for i in range(len(c)-1):\n",
    "    i=i+1\n",
    "    t=c[i][0] and c[i][1]\n",
    "    u=c[i][2] and c[i][3]\n",
    "    kordinatXversicolor.append(t)\n",
    "    kordinatYversicolor.append(u)\n",
    "\n",
    "plt.scatter(kordinatXvirginica,kordinatYvirginica,c='blue')\n",
    "plt.scatter(kordinatXsetosa,kordinatYsetosa,c='red')\n",
    "plt.scatter(kordinatXversicolor,kordinatYversicolor,c='green')\n",
    "plt.show"
   ]
  },
  {
   "cell_type": "code",
   "execution_count": 3,
   "metadata": {},
   "outputs": [
    {
     "name": "stdout",
     "output_type": "stream",
     "text": [
      "Accuracy: 0.8888888888888888\n"
     ]
    }
   ],
   "source": [
    "X = datalatih.drop('data5',axis=1).values\n",
    "y = datalatih['data5'].values\n",
    "X_train,X_test,y_train,y_test = train_test_split(X,y,test_size=0.06)\n",
    "model = svm.SVC(kernel = 'rbf', C=10, gamma=10)\n",
    "model.fit(X_train, y_train)\n",
    "y_pred = model.predict(X_test)\n",
    "print(\"Accuracy:\",metrics.accuracy_score(y_test, y_pred))"
   ]
  },
  {
   "cell_type": "code",
   "execution_count": 4,
   "metadata": {},
   "outputs": [
    {
     "name": "stdout",
     "output_type": "stream",
     "text": [
      "Accuracy: 0.4444444444444444\n",
      "['Iris-setosa' 'Iris-setosa' 'Iris-setosa' 'Iris-versicolor'\n",
      " 'Iris-versicolor' 'Iris-versicolor' 'Iris-virginica' 'Iris-virginica'\n",
      " 'Iris-virginica']\n"
     ]
    }
   ],
   "source": [
    "X_train=datalatih.drop('data5',axis=1).values\n",
    "X_test=datauji.drop('data5',axis=1).values\n",
    "y_train=datalatih['data5']\n",
    "model = svm.SVC(kernel = 'rbf', C=10, gamma=10)\n",
    "model.fit(X_train, y_train)\n",
    "y_pred = model.predict(X_test)\n",
    "print(\"Accuracy:\",metrics.accuracy_score(y_test, y_pred))\n",
    "print( y_pred)"
   ]
  }
 ],
 "metadata": {
  "kernelspec": {
   "display_name": "Python 3",
   "language": "python",
   "name": "python3"
  },
  "language_info": {
   "codemirror_mode": {
    "name": "ipython",
    "version": 3
   },
   "file_extension": ".py",
   "mimetype": "text/x-python",
   "name": "python",
   "nbconvert_exporter": "python",
   "pygments_lexer": "ipython3",
   "version": "3.7.4"
  }
 },
 "nbformat": 4,
 "nbformat_minor": 2
}
